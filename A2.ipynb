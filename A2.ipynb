{
 "cells": [
  {
   "cell_type": "code",
   "execution_count": null,
   "metadata": {},
   "outputs": [
    {
     "name": "stdout",
     "output_type": "stream",
     "text": [
      "  Unnamed: 0      id                                title release_date  \\\n",
      "0          0  385687                               Fast X   2023-05-17   \n",
      "1          1  603692                 John Wick: Chapter 4   2023-03-22   \n",
      "2          2  502356          The Super Mario Bros. Movie   2023-04-05   \n",
      "3          3  569094  Spider-Man: Across the Spider-Verse   2023-05-31   \n",
      "4          4  536437                             Hypnotic   2023-05-11   \n",
      "\n",
      "                                              genres original_language  \\\n",
      "0                    ['Action', 'Crime', 'Thriller']           English   \n",
      "1                    ['Action', 'Thriller', 'Crime']           English   \n",
      "2  ['Animation', 'Family', 'Adventure', 'Fantasy'...           English   \n",
      "3  ['Action', 'Adventure', 'Animation', 'Science ...           English   \n",
      "4         ['Mystery', 'Thriller', 'Science Fiction']           English   \n",
      "\n",
      "   vote_average  vote_count  popularity  \\\n",
      "0           7.4      1347.0    8363.473   \n",
      "1           7.9      2896.0    4210.313   \n",
      "2           7.8      4628.0    3394.458   \n",
      "3           8.8      1160.0    2859.047   \n",
      "4           6.5       154.0    2654.854   \n",
      "\n",
      "                                            overview       budget  \\\n",
      "0  Over many missions and against impossible odds...  340000000.0   \n",
      "1  With the price on his head ever increasing, Jo...   90000000.0   \n",
      "2  While working underground to fix a water main,...  100000000.0   \n",
      "3  After reuniting with Gwen Stacy, Brooklyn’s fu...  100000000.0   \n",
      "4  A detective becomes entangled in a mystery inv...   70000000.0   \n",
      "\n",
      "                                production_companies       revenue  runtime  \\\n",
      "0  ['Universal Pictures', 'Original Film', 'One R...  6.520000e+08    142.0   \n",
      "1  ['Thunder Road', '87Eleven', 'Summit Entertain...  4.317692e+08    170.0   \n",
      "2  ['Universal Pictures', 'Illumination', 'Ninten...  1.308767e+09     92.0   \n",
      "3  ['Columbia Pictures', 'Sony Pictures Animation...  3.135222e+08    140.0   \n",
      "4  ['Studio 8', 'Solstice Productions', 'Ingeniou...  0.000000e+00     94.0   \n",
      "\n",
      "                                   tagline  \n",
      "0              The end of the road begins.  \n",
      "1                No way back, one way out.  \n",
      "2                                      NaN  \n",
      "3  It's how you wear the mask that matters  \n",
      "4                  Control is an illusion.  \n"
     ]
    }
   ],
   "source": [
    "import pandas as pd\n",
    "\n",
    "df = pd.read_csv('top_10000_popular_movies_tmdb.csv')\n",
    "\n"
   ]
  },
  {
   "cell_type": "code",
   "execution_count": null,
   "metadata": {},
   "outputs": [],
   "source": [
    "#ethan's code"
   ]
  },
  {
   "cell_type": "code",
   "execution_count": null,
   "metadata": {},
   "outputs": [],
   "source": [
    "#justin's code"
   ]
  }
 ],
 "metadata": {
  "kernelspec": {
   "display_name": ".venv",
   "language": "python",
   "name": "python3"
  },
  "language_info": {
   "codemirror_mode": {
    "name": "ipython",
    "version": 3
   },
   "file_extension": ".py",
   "mimetype": "text/x-python",
   "name": "python",
   "nbconvert_exporter": "python",
   "pygments_lexer": "ipython3",
   "version": "3.10.16"
  }
 },
 "nbformat": 4,
 "nbformat_minor": 2
}
